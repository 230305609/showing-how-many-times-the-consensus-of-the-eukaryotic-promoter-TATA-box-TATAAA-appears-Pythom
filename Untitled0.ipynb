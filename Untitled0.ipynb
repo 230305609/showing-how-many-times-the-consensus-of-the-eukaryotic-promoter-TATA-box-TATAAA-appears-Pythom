{
  "nbformat": 4,
  "nbformat_minor": 0,
  "metadata": {
    "colab": {
      "provenance": [],
      "authorship_tag": "ABX9TyMgiIZY8k0684EXZXWCk5O3",
      "include_colab_link": true
    },
    "kernelspec": {
      "name": "python3",
      "display_name": "Python 3"
    },
    "language_info": {
      "name": "python"
    }
  },
  "cells": [
    {
      "cell_type": "markdown",
      "metadata": {
        "id": "view-in-github",
        "colab_type": "text"
      },
      "source": [
        "<a href=\"https://colab.research.google.com/github/230305609/showing-how-many-times-the-consensus-of-the-eukaryotic-promoter-TATA-box-TATAAA-appears-Pythom/blob/main/Untitled0.ipynb\" target=\"_parent\"><img src=\"https://colab.research.google.com/assets/colab-badge.svg\" alt=\"Open In Colab\"/></a>"
      ]
    },
    {
      "cell_type": "code",
      "execution_count": 4,
      "metadata": {
        "colab": {
          "base_uri": "https://localhost:8080/"
        },
        "id": "NGXsD5JU5qtX",
        "outputId": "99c30245-d004-49c0-e424-1e46c545bd95"
      },
      "outputs": [
        {
          "output_type": "execute_result",
          "data": {
            "text/plain": [
              "7"
            ]
          },
          "metadata": {},
          "execution_count": 4
        }
      ],
      "source": [
        "sequencia = 'TTCATACTTGGTTAAGACCTTTACAAGCCGACCAACGTGGTGACAGTGTCGTCCTTTA' \\\n",
        "'CGCACCGAATCCCTTTATCATTGAATTAGTAGAAGAGCGATACTTAGGACGTCTTCGG' \\\n",
        "'ATGGAATCTTGGTCCCGTTGCCTGGAACGTCTTGAAACTGAATTCCCGCCAGAAGATG' \\\n",
        "'TTCATACTTGGTTAAGACCTTTACAAGCCGACCAACGTGGTGACAGTGTCGTCCTTTA' \\\n",
        "'CGCACCGAATCCCTTTATCATTGAATTAGTAGAAGAGCGATACTTAGGACGTCTTCGG' \\\n",
        "'GAATTGTTATCCTATTTCTCAGGAATACGTGAAGTAGTCCTTGCAATTGGCTCACGAC' \\\n",
        "'CTAAAACAACAGAACTACCCGTACCAGTAGACACTACAGGACGTTTGTCTTCAACAGT' \\\n",
        "'CCCATTTAACGGAAATCTCGACACACACTATAACTTTGATAATTTTGTTGAGGGACGA' \\\n",
        "'AGCAATCAACTCGCTCGTGCTGCAGCTTGGCAAGCGGCACAGAAACCGGGAGACCGTA' \\\n",
        "'CTCACAACCCTCTATTGCTCTATGGTGGGACTGGTTTGGGTAAAACCCATTTAATGTT' \\\n",
        "'TGCTGCAGGTAACGTAATGCGGCAAGTAAACCCAACTTATAAAGTAATGTATCTTCGT' \\\n",
        "'TCGGAACAGTTTTTCAGCGCCATGATAAGAGCGTACAAGATAAAAGTATGGATCATAA' \\\n",
        "'GGGTAAAACCCATTTAATGTTTGCTGCAGGTAACGTAATGCGGCAAGTAAACCCAACT' \\\n",
        "'TATAAAGTAATGTATCTTCGTTCGGAACAGTTTTTCAGCGCCATGATAAGAGCGTACA' \\\n",
        "'AGATAAAAGTATGGATCATAAGGGTAAAACCCATTTAATGTTTGCTGCAGGTAACGTA' \\\n",
        "'ATGCGGCAAGTAAACCCAACTTATAAAGTAATGTATCTTCGTTCGGAACAGTTTTTCA' \\\n",
        "'GCGCCATGATAAGAGCGTACAAGATAAAAGTATGGATCATAAAACGTAATGCGGCAAG' \\\n",
        "'TAAACCCAACTTATAAAGTAATGTATCTTCGTTCGGAACAGGGTAAAACCCATTTAAT' \\\n",
        "'GTTTGCTGCAGGTAACGTAATGCGGCAAGTAAACCCAACTTATAAAGTAATGTATCTT' \\\n",
        "'CGTTCGGAACAGTTTTTCAGCGCCATGATAAGAGCGTACAAGATAAAAGTATGGATCA' \\\n",
        "'TAAAACGTAATGCGGCAAGTAAACCCAACTTATAAAGTAATGTATCTTCGTTCGGAAC' \\\n",
        "'AAAAACGTAATGCGGCAAGTAAACCCAACTTATAAAGTAATGTATCTTCGTTCGGAAC'\n",
        "\n",
        "#sei que e uma string pq começou e terminou com '', agora vamos ver quantas vezes apareceu o consensus do promotor eucariotico TATA box (TATAAA)\n",
        "sequencia.count('TATAAA')"
      ]
    }
  ]
}